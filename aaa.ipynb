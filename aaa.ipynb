{
 "cells": [
  {
   "cell_type": "code",
   "execution_count": 1,
   "metadata": {},
   "outputs": [
    {
     "name": "stdout",
     "output_type": "stream",
     "text": [
      "Collecting flask\n",
      "  Downloading Flask-2.2.2-py3-none-any.whl (101 kB)\n",
      "     -------------------------------------- 101.5/101.5 kB 2.9 MB/s eta 0:00:00\n",
      "Collecting itsdangerous>=2.0\n",
      "  Downloading itsdangerous-2.1.2-py3-none-any.whl (15 kB)\n",
      "Requirement already satisfied: Jinja2>=3.0 in c:\\users\\teru2\\appdata\\roaming\\python\\python310\\site-packages (from flask) (3.0.3)\n",
      "Requirement already satisfied: click>=8.0 in c:\\users\\teru2\\appdata\\roaming\\python\\python310\\site-packages (from flask) (8.0.4)\n",
      "Collecting Werkzeug>=2.2.2\n",
      "  Downloading Werkzeug-2.2.2-py3-none-any.whl (232 kB)\n",
      "     -------------------------------------- 232.7/232.7 kB 4.7 MB/s eta 0:00:00\n",
      "Requirement already satisfied: colorama in c:\\users\\teru2\\appdata\\roaming\\python\\python310\\site-packages (from click>=8.0->flask) (0.4.4)\n",
      "Requirement already satisfied: MarkupSafe>=2.0 in c:\\users\\teru2\\appdata\\roaming\\python\\python310\\site-packages (from Jinja2>=3.0->flask) (2.1.0)\n",
      "Collecting MarkupSafe>=2.0\n",
      "  Downloading MarkupSafe-2.1.2-cp310-cp310-win_amd64.whl (16 kB)\n",
      "Installing collected packages: MarkupSafe, itsdangerous, Werkzeug, flask\n",
      "  Attempting uninstall: MarkupSafe\n",
      "    Found existing installation: MarkupSafe 2.1.0\n",
      "    Uninstalling MarkupSafe-2.1.0:\n",
      "      Successfully uninstalled MarkupSafe-2.1.0\n",
      "Successfully installed MarkupSafe-2.1.2 Werkzeug-2.2.2 flask-2.2.2 itsdangerous-2.1.2\n",
      "\n",
      "[notice] A new release of pip available: 22.1.2 -> 22.3.1\n",
      "[notice] To update, run: python.exe -m pip install --upgrade pip\n"
     ]
    }
   ],
   "source": [
    "!pip install flask"
   ]
  }
 ],
 "metadata": {
  "kernelspec": {
   "display_name": "Python 3",
   "language": "python",
   "name": "python3"
  },
  "language_info": {
   "codemirror_mode": {
    "name": "ipython",
    "version": 3
   },
   "file_extension": ".py",
   "mimetype": "text/x-python",
   "name": "python",
   "nbconvert_exporter": "python",
   "pygments_lexer": "ipython3",
   "version": "3.10.2 (tags/v3.10.2:a58ebcc, Jan 17 2022, 14:12:15) [MSC v.1929 64 bit (AMD64)]"
  },
  "orig_nbformat": 4,
  "vscode": {
   "interpreter": {
    "hash": "5ee5c43dc49ea8c7121518fb2c7f6f229b7646ced4ffdb7113dc17fbb673327f"
   }
  }
 },
 "nbformat": 4,
 "nbformat_minor": 2
}
